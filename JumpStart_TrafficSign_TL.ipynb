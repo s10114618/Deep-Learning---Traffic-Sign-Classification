{
  "nbformat": 4,
  "nbformat_minor": 0,
  "metadata": {
    "colab": {
      "name": "JumpStart_TrafficSign_TL",
      "provenance": [],
      "collapsed_sections": [],
      "toc_visible": true,
      "machine_shape": "hm",
      "authorship_tag": "ABX9TyPyWB2k56N7AmTpQ+ehJgfk"
    },
    "kernelspec": {
      "name": "python3",
      "display_name": "Python 3"
    },
    "accelerator": "GPU"
  },
  "cells": [
    {
      "cell_type": "markdown",
      "metadata": {
        "id": "YAWuYX48dPaG",
        "colab_type": "text"
      },
      "source": [
        "**Traffic Sign Classification Transfer Learning Application**\n",
        "\n",
        "Traffic sign classification is the process of automatically recognizing traffic signs along the road. The code below uses pre-trained VGG and dense model to train the model. The dataset is from German Traffic Sign Recognition Benchmark (GTSRB)."
      ]
    },
    {
      "cell_type": "code",
      "metadata": {
        "id": "FAR0ik7e8OCV",
        "colab_type": "code",
        "colab": {}
      },
      "source": [
        "### Importing images from kaggle ###\n",
        "%tensorflow_version 2.x\n",
        "#!kill -9 -1\n",
        "\n",
        "!pip install kaggle\n",
        "!mkdir .kaggle\n",
        "!mkdir traffic-sign\n",
        "import json\n",
        "token = {\"username\":\"XXX\",\"key\":\"XXX\"}\n",
        "with open('/content/.kaggle/kaggle.json', 'w') as file:\n",
        "    json.dump(token, file)\n",
        "!cp /content/.kaggle/kaggle.json ~/.kaggle/kaggle.json\n",
        "!kaggle config set -n path -v /content\n",
        "!chmod 600 /root/.kaggle/kaggle.json\n",
        "!kaggle datasets list\n",
        "!kaggle datasets download -d meowmeowmeowmeowmeow/gtsrb-german-traffic-sign\n",
        "!mv /content/datasets/meowmeowmeowmeowmeow/gtsrb-german-traffic-sign/gtsrb-german-traffic-sign.zip /content/traffic-sign\n",
        "!unzip /content/traffic-sign/gtsrb-german-traffic-sign.zip"
      ],
      "execution_count": 0,
      "outputs": []
    },
    {
      "cell_type": "code",
      "metadata": {
        "id": "wDcHVReyr8_3",
        "colab_type": "code",
        "outputId": "e29317c7-9b8b-442e-9cd2-302c2c141a8f",
        "colab": {
          "base_uri": "https://localhost:8080/",
          "height": 308
        }
      },
      "source": [
        "!nvidia-smi"
      ],
      "execution_count": 0,
      "outputs": [
        {
          "output_type": "stream",
          "text": [
            "Tue Feb 25 09:34:40 2020       \n",
            "+-----------------------------------------------------------------------------+\n",
            "| NVIDIA-SMI 440.48.02    Driver Version: 418.67       CUDA Version: 10.1     |\n",
            "|-------------------------------+----------------------+----------------------+\n",
            "| GPU  Name        Persistence-M| Bus-Id        Disp.A | Volatile Uncorr. ECC |\n",
            "| Fan  Temp  Perf  Pwr:Usage/Cap|         Memory-Usage | GPU-Util  Compute M. |\n",
            "|===============================+======================+======================|\n",
            "|   0  Tesla P100-PCIE...  Off  | 00000000:00:04.0 Off |                    0 |\n",
            "| N/A   44C    P0    33W / 250W |    265MiB / 16280MiB |      0%      Default |\n",
            "+-------------------------------+----------------------+----------------------+\n",
            "                                                                               \n",
            "+-----------------------------------------------------------------------------+\n",
            "| Processes:                                                       GPU Memory |\n",
            "|  GPU       PID   Type   Process name                             Usage      |\n",
            "|=============================================================================|\n",
            "+-----------------------------------------------------------------------------+\n"
          ],
          "name": "stdout"
        }
      ]
    },
    {
      "cell_type": "code",
      "metadata": {
        "id": "8kPfB1tWaeHt",
        "colab_type": "code",
        "colab": {}
      },
      "source": [
        "# Read Data\n",
        "import pandas as pd\n",
        "import glob\n",
        "import os\n",
        "\n",
        "train_path = \"/content/train\"\n",
        "\n",
        "data = []\n",
        "for root, dirs, files in os.walk(train_path, topdown=True):\n",
        "  for name in files:\n",
        "    if '.png' in name:\n",
        "      filename = os.path.abspath(os.path.join(root, name))\n",
        "      class_name = os.path.basename(root)\n",
        "      data.append((filename, class_name))\n",
        "\n",
        "df = pd.DataFrame(data, columns=['filename', 'class'])\n",
        "class_name_type = ['Speed limit (20km/h)','Speed limit (30km/h)','Speed limit (50km/h)','Speed limit (60km/h)','Speed limit (70km/h)','Speed limit (80km/h)','End of speed limit (80km/h)','Speed limit (100km/h)','Speed limit (120km/h)','No passing','No passing veh over 3.5 tons','Right-of-way at intersection','Priority road','Yield','Stop','No vehicles','Veh > 3.5 tons prohibited','No entry','General caution','Dangerous curve left','Dangerous curve right','Double curve','Bumpy road','Slippery road','Road narrows on the right','Road work','Traffic signals','Pedestrians','Children crossing','Bicycles crossing','Beware of ice/snow','Wild animals crossing','End speed + passing limits','Turn right ahead','Turn left ahead','Ahead only','Go straight or right','Go straight or left','Keep right','Keep left','Roundabout mandatory','End of no passing','End no passing veh > 3.5 tons']\n",
        "df['class'] = df['class'].apply(lambda x: int(x))\n",
        "df['class_name'] = df['class'].apply(lambda x: class_name_type[x])\n",
        "\n",
        "#shuffle\n",
        "df = df.sample(frac=1).reset_index(drop=True)"
      ],
      "execution_count": 0,
      "outputs": []
    },
    {
      "cell_type": "code",
      "metadata": {
        "id": "xpwWandOiMCz",
        "colab_type": "code",
        "colab": {}
      },
      "source": [
        "# Split into train and validation sets\n",
        "train_set_percentage = .9\n",
        "\n",
        "# Training Data Set 90%\n",
        "df = df[:int(len(df)*train_set_percentage)]\n",
        "# Validation Data Set 10%\n",
        "df_val = df[int(len(df)*train_set_percentage):]\n",
        "\n",
        "# shuffle \n",
        "df = df.sample(frac=1).reset_index(drop=True)\n",
        "df_val = df_val.sample(frac=1).reset_index(drop=True)"
      ],
      "execution_count": 0,
      "outputs": []
    },
    {
      "cell_type": "code",
      "metadata": {
        "id": "wBoFDy1ItZMA",
        "colab_type": "code",
        "colab": {}
      },
      "source": [
        "# Reads an image from a file, decodes it into a tensor, and resizes it\n",
        "# to a fixed shape.\n",
        "img_rows, img_cols = 224,224\n",
        "num_classes = 43\n",
        "batch_size = 32\n",
        "\n",
        "def _parse_function(filename, label):\n",
        "  image_string = tf.io.read_file(filename)\n",
        "  image_decoded = tf.image.decode_jpeg(image_string,channels=3)\n",
        "  image_resized = tf.image.resize(image_decoded, [img_rows, img_cols])\n",
        "  image_resized = tf.ensure_shape(image_resized ,shape=(img_rows, img_cols,3))\n",
        "  label = tf.one_hot(label, num_classes)\n",
        "  return image_resized, label"
      ],
      "execution_count": 0,
      "outputs": []
    },
    {
      "cell_type": "code",
      "metadata": {
        "id": "LSGIqgMAobMS",
        "colab_type": "code",
        "colab": {}
      },
      "source": [
        "# Assemble the Data pipeline using tf.data\n",
        "from tensorflow.keras.preprocessing import image\n",
        "from tensorflow.keras.preprocessing.image import ImageDataGenerator\n",
        "from tensorflow.keras.models import Model,load_model,Sequential\n",
        "from tensorflow.keras.layers import Dense, GlobalAveragePooling2D, Dropout,Flatten, Input\n",
        "from tensorflow.keras import backend as K\n",
        "import tensorflow as tf\n",
        "\n",
        "train_dataset = tf.data.Dataset.from_tensor_slices((tf.cast(df['filename'].values, tf.string),\n",
        "                                                    tf.cast(df['class'].values, tf.int32) ))\n",
        "train_dataset = train_dataset.map(_parse_function)\n",
        "train_dataset = train_dataset.shuffle(5000)\n",
        "train_dataset = train_dataset.repeat()\n",
        "train_dataset = train_dataset.batch(batch_size, drop_remainder=True)\n",
        "\n",
        "valid_dataset = tf.data.Dataset.from_tensor_slices((tf.cast(df_val['filename'].values, tf.string),\n",
        "                                                    tf.cast(df_val['class'].values, tf.int32) ))\n",
        "valid_dataset = valid_dataset.map(_parse_function)\n",
        "valid_dataset = valid_dataset.shuffle(5000)\n",
        "valid_dataset = valid_dataset.repeat()\n",
        "valid_dataset = valid_dataset.batch(batch_size, drop_remainder=True)"
      ],
      "execution_count": 0,
      "outputs": []
    },
    {
      "cell_type": "code",
      "metadata": {
        "id": "auu7jTl3tebY",
        "colab_type": "code",
        "outputId": "c9625e46-c6c8-42ee-952d-8c55175473d8",
        "colab": {
          "base_uri": "https://localhost:8080/",
          "height": 54
        }
      },
      "source": [
        "# API to create pre-trained model\n",
        "base_model = tf.keras.applications.VGG16(weights='imagenet', include_top=False, input_shape=(224, 224, 3),pooling=None)"
      ],
      "execution_count": 0,
      "outputs": [
        {
          "output_type": "stream",
          "text": [
            "Downloading data from https://github.com/fchollet/deep-learning-models/releases/download/v0.1/vgg16_weights_tf_dim_ordering_tf_kernels_notop.h5\n",
            "58892288/58889256 [==============================] - 1s 0us/step\n"
          ],
          "name": "stdout"
        }
      ]
    },
    {
      "cell_type": "code",
      "metadata": {
        "id": "nI-tfiVUuHKg",
        "colab_type": "code",
        "outputId": "548975a7-7d96-4421-ddb1-cd9233cec040",
        "colab": {
          "base_uri": "https://localhost:8080/",
          "height": 854
        }
      },
      "source": [
        "base_model.summary()"
      ],
      "execution_count": 0,
      "outputs": [
        {
          "output_type": "stream",
          "text": [
            "Model: \"vgg16\"\n",
            "_________________________________________________________________\n",
            "Layer (type)                 Output Shape              Param #   \n",
            "=================================================================\n",
            "input_1 (InputLayer)         [(None, 224, 224, 3)]     0         \n",
            "_________________________________________________________________\n",
            "block1_conv1 (Conv2D)        (None, 224, 224, 64)      1792      \n",
            "_________________________________________________________________\n",
            "block1_conv2 (Conv2D)        (None, 224, 224, 64)      36928     \n",
            "_________________________________________________________________\n",
            "block1_pool (MaxPooling2D)   (None, 112, 112, 64)      0         \n",
            "_________________________________________________________________\n",
            "block2_conv1 (Conv2D)        (None, 112, 112, 128)     73856     \n",
            "_________________________________________________________________\n",
            "block2_conv2 (Conv2D)        (None, 112, 112, 128)     147584    \n",
            "_________________________________________________________________\n",
            "block2_pool (MaxPooling2D)   (None, 56, 56, 128)       0         \n",
            "_________________________________________________________________\n",
            "block3_conv1 (Conv2D)        (None, 56, 56, 256)       295168    \n",
            "_________________________________________________________________\n",
            "block3_conv2 (Conv2D)        (None, 56, 56, 256)       590080    \n",
            "_________________________________________________________________\n",
            "block3_conv3 (Conv2D)        (None, 56, 56, 256)       590080    \n",
            "_________________________________________________________________\n",
            "block3_pool (MaxPooling2D)   (None, 28, 28, 256)       0         \n",
            "_________________________________________________________________\n",
            "block4_conv1 (Conv2D)        (None, 28, 28, 512)       1180160   \n",
            "_________________________________________________________________\n",
            "block4_conv2 (Conv2D)        (None, 28, 28, 512)       2359808   \n",
            "_________________________________________________________________\n",
            "block4_conv3 (Conv2D)        (None, 28, 28, 512)       2359808   \n",
            "_________________________________________________________________\n",
            "block4_pool (MaxPooling2D)   (None, 14, 14, 512)       0         \n",
            "_________________________________________________________________\n",
            "block5_conv1 (Conv2D)        (None, 14, 14, 512)       2359808   \n",
            "_________________________________________________________________\n",
            "block5_conv2 (Conv2D)        (None, 14, 14, 512)       2359808   \n",
            "_________________________________________________________________\n",
            "block5_conv3 (Conv2D)        (None, 14, 14, 512)       2359808   \n",
            "_________________________________________________________________\n",
            "block5_pool (MaxPooling2D)   (None, 7, 7, 512)         0         \n",
            "=================================================================\n",
            "Total params: 14,714,688\n",
            "Trainable params: 14,714,688\n",
            "Non-trainable params: 0\n",
            "_________________________________________________________________\n"
          ],
          "name": "stdout"
        }
      ]
    },
    {
      "cell_type": "code",
      "metadata": {
        "id": "RHaAs2yrurIQ",
        "colab_type": "code",
        "colab": {}
      },
      "source": [
        "# add a global spatial average pooling layer\n",
        "x = base_model.output\n",
        "\n",
        "x = GlobalAveragePooling2D()(x)\n",
        "\n",
        "# let's add a fully-connected layer\n",
        "x = Dense(512, activation='relu')(x)\n",
        "\n",
        "#x = Dropout(0.3)(x)\n",
        "\n",
        "# and a logits layer -- let's say we have 42 classes\n",
        "predictions = Dense(43, activation='softmax')(x)\n",
        "\n",
        "# This is the model we will train\n",
        "model = Model(inputs=base_model.input, outputs=predictions)"
      ],
      "execution_count": 0,
      "outputs": []
    },
    {
      "cell_type": "code",
      "metadata": {
        "id": "LQSt84o_u0H4",
        "colab_type": "code",
        "outputId": "ccfc38a3-8856-4cfa-9946-3c83398da261",
        "colab": {
          "base_uri": "https://localhost:8080/",
          "height": 363
        }
      },
      "source": [
        "# first: train only the top layers (which were randomly initialized)\n",
        "# i.e. freeze all convolutional VGG16 layers\n",
        "for layer in base_model.layers:\n",
        "    print(layer.name)\n",
        "    layer.trainable = False"
      ],
      "execution_count": 0,
      "outputs": [
        {
          "output_type": "stream",
          "text": [
            "input_1\n",
            "block1_conv1\n",
            "block1_conv2\n",
            "block1_pool\n",
            "block2_conv1\n",
            "block2_conv2\n",
            "block2_pool\n",
            "block3_conv1\n",
            "block3_conv2\n",
            "block3_conv3\n",
            "block3_pool\n",
            "block4_conv1\n",
            "block4_conv2\n",
            "block4_conv3\n",
            "block4_pool\n",
            "block5_conv1\n",
            "block5_conv2\n",
            "block5_conv3\n",
            "block5_pool\n"
          ],
          "name": "stdout"
        }
      ]
    },
    {
      "cell_type": "code",
      "metadata": {
        "id": "Jxm0kKEvvGVH",
        "colab_type": "code",
        "outputId": "4895c77a-fe39-48f5-adc8-268ba4b8d8b1",
        "colab": {
          "base_uri": "https://localhost:8080/",
          "height": 417
        }
      },
      "source": [
        "for layer in model.layers:\n",
        "    print(layer.name,' Trainable =',layer.trainable)"
      ],
      "execution_count": 0,
      "outputs": [
        {
          "output_type": "stream",
          "text": [
            "input_1  Trainable = False\n",
            "block1_conv1  Trainable = False\n",
            "block1_conv2  Trainable = False\n",
            "block1_pool  Trainable = False\n",
            "block2_conv1  Trainable = False\n",
            "block2_conv2  Trainable = False\n",
            "block2_pool  Trainable = False\n",
            "block3_conv1  Trainable = False\n",
            "block3_conv2  Trainable = False\n",
            "block3_conv3  Trainable = False\n",
            "block3_pool  Trainable = False\n",
            "block4_conv1  Trainable = False\n",
            "block4_conv2  Trainable = False\n",
            "block4_conv3  Trainable = False\n",
            "block4_pool  Trainable = False\n",
            "block5_conv1  Trainable = False\n",
            "block5_conv2  Trainable = False\n",
            "block5_conv3  Trainable = False\n",
            "block5_pool  Trainable = False\n",
            "global_average_pooling2d  Trainable = True\n",
            "dense  Trainable = True\n",
            "dense_1  Trainable = True\n"
          ],
          "name": "stdout"
        }
      ]
    },
    {
      "cell_type": "code",
      "metadata": {
        "id": "IgDduDZzwL2a",
        "colab_type": "code",
        "outputId": "97538b3b-525d-4ab1-8648-1f2405c599b2",
        "colab": {
          "base_uri": "https://localhost:8080/",
          "height": 54
        }
      },
      "source": [
        "opt = tf.keras.optimizers.Adam(lr=0.001)\n",
        "\n",
        "# compile the model (should be done *after* setting layers to non-trainable)\n",
        "model.compile(optimizer=opt, loss='categorical_crossentropy',metrics=['accuracy'])\n",
        "train_steps = int(len(df)/32) #total trains set / batch_size\n",
        "val_steps = int(len(df_val)/32)\n",
        "epochs = 10\n",
        "\n",
        "print('train steps:',train_steps)\n",
        "print('val steps:',val_steps)"
      ],
      "execution_count": 0,
      "outputs": [
        {
          "output_type": "stream",
          "text": [
            "train steps: 1102\n",
            "val steps: 110\n"
          ],
          "name": "stdout"
        }
      ]
    },
    {
      "cell_type": "code",
      "metadata": {
        "id": "BxS-6mH0XIFF",
        "colab_type": "code",
        "outputId": "ab33bbd9-4394-48d5-868e-1cae7505d9e6",
        "colab": {
          "base_uri": "https://localhost:8080/",
          "height": 35
        }
      },
      "source": [
        "# Callback\n",
        "from keras.callbacks import ModelCheckpoint\n",
        "filepath=\"weights.best.hdf5\"\n",
        "checkpoint = ModelCheckpoint(filepath, monitor='val_accuracy', verbose=1, save_best_only=True, mode='max')\n",
        "callbacks_list = [checkpoint]"
      ],
      "execution_count": 0,
      "outputs": [
        {
          "output_type": "stream",
          "text": [
            "Using TensorFlow backend.\n"
          ],
          "name": "stderr"
        }
      ]
    },
    {
      "cell_type": "code",
      "metadata": {
        "id": "Zq71h_BOwT5I",
        "colab_type": "code",
        "outputId": "63e909ff-b425-43dc-8eb7-9358c1ca1382",
        "colab": {
          "base_uri": "https://localhost:8080/",
          "height": 763
        }
      },
      "source": [
        "### Train the model with validation and Callback \n",
        "history = model.fit( train_dataset, \n",
        "                    steps_per_epoch = train_steps,\n",
        "                   epochs = epochs,\n",
        "                    callbacks=callbacks_list,\n",
        "                   validation_data = valid_dataset,\n",
        "                   validation_steps = val_steps)"
      ],
      "execution_count": 0,
      "outputs": [
        {
          "output_type": "stream",
          "text": [
            "Train for 1102 steps, validate for 110 steps\n",
            "Epoch 1/10\n",
            "1101/1102 [============================>.] - ETA: 0s - loss: 0.6644 - accuracy: 0.8162\n",
            "Epoch 00001: val_accuracy improved from -inf to 0.92869, saving model to weights.best.hdf5\n",
            "1102/1102 [==============================] - 111s 100ms/step - loss: 0.6640 - accuracy: 0.8164 - val_loss: 0.2365 - val_accuracy: 0.9287\n",
            "Epoch 2/10\n",
            "1101/1102 [============================>.] - ETA: 0s - loss: 0.2063 - accuracy: 0.9377\n",
            "Epoch 00002: val_accuracy improved from 0.92869 to 0.95341, saving model to weights.best.hdf5\n",
            "1102/1102 [==============================] - 98s 89ms/step - loss: 0.2063 - accuracy: 0.9377 - val_loss: 0.1423 - val_accuracy: 0.9534\n",
            "Epoch 3/10\n",
            "1101/1102 [============================>.] - ETA: 0s - loss: 0.1513 - accuracy: 0.9540\n",
            "Epoch 00003: val_accuracy improved from 0.95341 to 0.97756, saving model to weights.best.hdf5\n",
            "1102/1102 [==============================] - 98s 89ms/step - loss: 0.1513 - accuracy: 0.9541 - val_loss: 0.0803 - val_accuracy: 0.9776\n",
            "Epoch 4/10\n",
            "1101/1102 [============================>.] - ETA: 0s - loss: 0.1287 - accuracy: 0.9606\n",
            "Epoch 00004: val_accuracy did not improve from 0.97756\n",
            "1102/1102 [==============================] - 99s 89ms/step - loss: 0.1287 - accuracy: 0.9606 - val_loss: 0.0876 - val_accuracy: 0.9693\n",
            "Epoch 5/10\n",
            "1101/1102 [============================>.] - ETA: 0s - loss: 0.0892 - accuracy: 0.9703\n",
            "Epoch 00005: val_accuracy did not improve from 0.97756\n",
            "1102/1102 [==============================] - 98s 89ms/step - loss: 0.0892 - accuracy: 0.9703 - val_loss: 0.0676 - val_accuracy: 0.9776\n",
            "Epoch 6/10\n",
            "1101/1102 [============================>.] - ETA: 0s - loss: 0.0954 - accuracy: 0.9699\n",
            "Epoch 00006: val_accuracy improved from 0.97756 to 0.97955, saving model to weights.best.hdf5\n",
            "1102/1102 [==============================] - 98s 89ms/step - loss: 0.0954 - accuracy: 0.9699 - val_loss: 0.0801 - val_accuracy: 0.9795\n",
            "Epoch 7/10\n",
            "1101/1102 [============================>.] - ETA: 0s - loss: 0.0670 - accuracy: 0.9793\n",
            "Epoch 00007: val_accuracy improved from 0.97955 to 0.99034, saving model to weights.best.hdf5\n",
            "1102/1102 [==============================] - 103s 94ms/step - loss: 0.0670 - accuracy: 0.9793 - val_loss: 0.0297 - val_accuracy: 0.9903\n",
            "Epoch 8/10\n",
            "1101/1102 [============================>.] - ETA: 0s - loss: 0.0740 - accuracy: 0.9782\n",
            "Epoch 00008: val_accuracy did not improve from 0.99034\n",
            "1102/1102 [==============================] - 103s 93ms/step - loss: 0.0739 - accuracy: 0.9782 - val_loss: 0.0442 - val_accuracy: 0.9869\n",
            "Epoch 9/10\n",
            "1101/1102 [============================>.] - ETA: 0s - loss: 0.0632 - accuracy: 0.9810\n",
            "Epoch 00009: val_accuracy did not improve from 0.99034\n",
            "1102/1102 [==============================] - 103s 93ms/step - loss: 0.0633 - accuracy: 0.9809 - val_loss: 0.0417 - val_accuracy: 0.9858\n",
            "Epoch 10/10\n",
            "1101/1102 [============================>.] - ETA: 0s - loss: 0.0581 - accuracy: 0.9833\n",
            "Epoch 00010: val_accuracy did not improve from 0.99034\n",
            "1102/1102 [==============================] - 102s 93ms/step - loss: 0.0580 - accuracy: 0.9833 - val_loss: 0.0465 - val_accuracy: 0.9861\n"
          ],
          "name": "stdout"
        }
      ]
    },
    {
      "cell_type": "code",
      "metadata": {
        "id": "JAsiNbmAxkNR",
        "colab_type": "code",
        "outputId": "7cee61cc-9ee9-40f7-d9f7-45a4848fbb02",
        "colab": {
          "base_uri": "https://localhost:8080/",
          "height": 54
        }
      },
      "source": [
        "metrics = model.evaluate(valid_dataset,\n",
        "                   steps = val_steps)\n",
        "print(\"Model Accuracy is:\",metrics[1])"
      ],
      "execution_count": 0,
      "outputs": [
        {
          "output_type": "stream",
          "text": [
            "110/110 [==============================] - 12s 109ms/step - loss: 0.0467 - accuracy: 0.9858\n",
            "Model Accuracy is: 0.98579544\n"
          ],
          "name": "stdout"
        }
      ]
    },
    {
      "cell_type": "markdown",
      "metadata": {
        "id": "G3Ptw8kzxu_W",
        "colab_type": "text"
      },
      "source": [
        "**Test out the Traffic Sign Classification Model**"
      ]
    },
    {
      "cell_type": "code",
      "metadata": {
        "id": "74s_Wcl2bCva",
        "colab_type": "code",
        "colab": {}
      },
      "source": [
        "from IPython.display import display, Image\n",
        "from keras.preprocessing import image\n",
        "from keras.preprocessing.image import load_img\n",
        "from keras.applications.imagenet_utils import preprocess_input, decode_predictions\n",
        "import numpy as np\n",
        "\n",
        "def resize_image(image_check):\n",
        "  img_path = image_check\n",
        "  img = image.load_img(img_path, target_size=(224, 224))\n",
        "  x = image.img_to_array(img)\n",
        "  x = np.expand_dims(x, axis=0)\n",
        "  x = preprocess_input(x)\n",
        "  return x\n",
        "\n",
        "def ts_pred(x):\n",
        "  x = resize_image(x)\n",
        "  preds = model.predict(x)\n",
        "  output = pd.DataFrame(preds,columns=class_name_type)\n",
        "  output = output.transpose()\n",
        "  output = output.sort_values(by=0, ascending=False).rename(columns={0:'Prediction'})\n",
        "  print(output.round(5)[0:5])"
      ],
      "execution_count": 0,
      "outputs": []
    },
    {
      "cell_type": "code",
      "metadata": {
        "id": "Ggiak7aMzDlL",
        "colab_type": "code",
        "outputId": "0e2aaef9-6551-43d7-cb75-f11a2cab57e4",
        "colab": {
          "base_uri": "https://localhost:8080/",
          "height": 198
        }
      },
      "source": [
        "image_check = '/content/test/02246.png'\n",
        "display(Image(image_check))\n",
        "ts_pred(image_check)"
      ],
      "execution_count": 0,
      "outputs": [
        {
          "output_type": "display_data",
          "data": {
            "image/png": "[encoded data removed]",
            "text/plain": [
              "<IPython.core.display.Image object>"
            ]
          },
          "metadata": {
            "tags": []
          }
        },
        {
          "output_type": "stream",
          "text": [
            "                              Prediction\n",
            "Speed limit (80km/h)             0.85848\n",
            "Speed limit (50km/h)             0.13114\n",
            "No passing veh over 3.5 tons     0.00993\n",
            "Speed limit (30km/h)             0.00023\n",
            "Turn left ahead                  0.00011\n"
          ],
          "name": "stdout"
        }
      ]
    },
    {
      "cell_type": "code",
      "metadata": {
        "id": "qwGT5IRbbfK6",
        "colab_type": "code",
        "outputId": "191e1b81-6a50-4b6e-a967-6a1232a20f2a",
        "colab": {
          "base_uri": "https://localhost:8080/",
          "height": 224
        }
      },
      "source": [
        "image_check = '/content/test/12564.png'\n",
        "display(Image(image_check))\n",
        "ts_pred(image_check)"
      ],
      "execution_count": 0,
      "outputs": [
        {
          "output_type": "display_data",
          "data": {
            "image/png": "[encoded data removed]",
            "text/plain": [
              "<IPython.core.display.Image object>"
            ]
          },
          "metadata": {
            "tags": []
          }
        },
        {
          "output_type": "stream",
          "text": [
            "                       Prediction\n",
            "Slippery road                 1.0\n",
            "Bumpy road                    0.0\n",
            "Road work                     0.0\n",
            "Dangerous curve right         0.0\n",
            "General caution               0.0\n"
          ],
          "name": "stdout"
        }
      ]
    },
    {
      "cell_type": "code",
      "metadata": {
        "id": "75uZ5-RabuuA",
        "colab_type": "code",
        "outputId": "5c6fc009-55bc-4e5a-e3f3-d0ad7d2dcf87",
        "colab": {
          "base_uri": "https://localhost:8080/",
          "height": 185
        }
      },
      "source": [
        "image_check = '/content/test/11443.png'\n",
        "display(Image(image_check))\n",
        "ts_pred(image_check)"
      ],
      "execution_count": 0,
      "outputs": [
        {
          "output_type": "display_data",
          "data": {
            "image/png": "[encoded data removed]",
            "text/plain": [
              "<IPython.core.display.Image object>"
            ]
          },
          "metadata": {
            "tags": []
          }
        },
        {
          "output_type": "stream",
          "text": [
            "                              Prediction\n",
            "Speed limit (80km/h)             0.97173\n",
            "No passing veh over 3.5 tons     0.02826\n",
            "Speed limit (100km/h)            0.00000\n",
            "Speed limit (70km/h)             0.00000\n",
            "Speed limit (60km/h)             0.00000\n"
          ],
          "name": "stdout"
        }
      ]
    },
    {
      "cell_type": "code",
      "metadata": {
        "id": "nNXfYFZU7o6R",
        "colab_type": "code",
        "outputId": "b0acc0d4-d9f0-4cb7-b14a-9a9d18239a8a",
        "colab": {
          "base_uri": "https://localhost:8080/",
          "height": 231
        }
      },
      "source": [
        "image_check = '/content/test/12314.png'\n",
        "display(Image(image_check))\n",
        "ts_pred(image_check)"
      ],
      "execution_count": 0,
      "outputs": [
        {
          "output_type": "display_data",
          "data": {
            "image/png": "[encoded data removed]",
            "text/plain": [
              "<IPython.core.display.Image object>"
            ]
          },
          "metadata": {
            "tags": []
          }
        },
        {
          "output_type": "stream",
          "text": [
            "                       Prediction\n",
            "Road work                     1.0\n",
            "Double curve                  0.0\n",
            "Dangerous curve right         0.0\n",
            "Traffic signals               0.0\n",
            "General caution               0.0\n"
          ],
          "name": "stdout"
        }
      ]
    },
    {
      "cell_type": "code",
      "metadata": {
        "id": "8bsKoU_9_4ex",
        "colab_type": "code",
        "outputId": "6ed2b4ac-9706-4a9d-a91e-f854cc7763d5",
        "colab": {
          "base_uri": "https://localhost:8080/",
          "height": 320
        }
      },
      "source": [
        "image_check = '/content/3.jpg'\n",
        "display(Image(image_check))\n",
        "ts_pred(image_check)"
      ],
      "execution_count": 0,
      "outputs": [
        {
          "output_type": "display_data",
          "data": {
            "image/jpeg": "[encoded data removed]",
            "text/plain": [
              "<IPython.core.display.Image object>"
            ]
          },
          "metadata": {
            "tags": []
          }
        },
        {
          "output_type": "stream",
          "text": [
            "                       Prediction\n",
            "Speed limit (30km/h)      0.99837\n",
            "Beware of ice/snow        0.00089\n",
            "Speed limit (120km/h)     0.00062\n",
            "Children crossing         0.00005\n",
            "Speed limit (70km/h)      0.00003\n"
          ],
          "name": "stdout"
        }
      ]
    }
  ]
}